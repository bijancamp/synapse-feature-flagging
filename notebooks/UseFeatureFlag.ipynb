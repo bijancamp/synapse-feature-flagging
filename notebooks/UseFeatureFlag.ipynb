{
  "nbformat": 4,
  "nbformat_minor": 2,
  "cells": [
    {
      "cell_type": "code",
      "execution_count": null,
      "outputs": [],
      "metadata": {},
      "source": [
        "parameters = {\r\n",
        "    \"featureflag\": \"cool-new-feature\"\r\n",
        "}\r\n",
        "\r\n",
        "cool_new_feature_enabled = mssparkutils.notebook.run(\"GetFeatureFlag\", 90, parameters) == \"True\""
      ]
    },
    {
      "cell_type": "code",
      "execution_count": null,
      "outputs": [],
      "metadata": {
        "jupyter": {
          "source_hidden": false,
          "outputs_hidden": false
        },
        "nteract": {
          "transient": {
            "deleting": false
          }
        }
      },
      "source": [
        "if cool_new_feature_enabled:\r\n",
        "    print(\"Cool new feature used!\")\r\n",
        "else:\r\n",
        "    print(\"Cool new feature not used.\")"
      ]
    }
  ],
  "metadata": {
    "save_output": false,
    "kernelspec": {
      "name": "synapse_pyspark",
      "display_name": "Synapse PySpark"
    },
    "language_info": {
      "name": "python"
    }
  }
}