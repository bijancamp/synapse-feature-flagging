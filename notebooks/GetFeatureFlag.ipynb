{
  "nbformat": 4,
  "nbformat_minor": 2,
  "metadata": {
    "kernelspec": {
      "name": "synapse_pyspark",
      "display_name": "Synapse PySpark"
    },
    "language_info": {
      "name": "python"
    },
    "save_output": false,
    "synapse_widget": {
      "version": "0.1",
      "state": {}
    }
  },
  "cells": [
    {
      "cell_type": "code",
      "execution_count": null,
      "outputs": [],
      "metadata": {
        "jupyter": {
          "source_hidden": false,
          "outputs_hidden": true
        },
        "nteract": {
          "transient": {
            "deleting": false
          }
        },
        "tags": [
          "parameters"
        ]
      },
      "source": [
        "appconfigurationstore = \"<store-name>\"\r\n",
        "featureflag = \"\"\r\n",
        "fallbackvalue = False\r\n",
        "keyvault = \"<vault-name>\""
      ]
    },
    {
      "cell_type": "code",
      "execution_count": null,
      "outputs": [],
      "metadata": {
        "jupyter": {
          "source_hidden": false,
          "outputs_hidden": true
        },
        "nteract": {
          "transient": {
            "deleting": false
          }
        }
      },
      "source": [
        "import json\r\n",
        "import requests\r\n",
        "\r\n",
        "from azure.appconfiguration import AzureAppConfigurationClient\r\n",
        "from azure.identity import ClientSecretCredential"
      ]
    },
    {
      "cell_type": "code",
      "execution_count": null,
      "outputs": [],
      "metadata": {
        "jupyter": {
          "source_hidden": false,
          "outputs_hidden": false
        },
        "nteract": {
          "transient": {
            "deleting": false
          }
        }
      },
      "source": [
        "azure_ad_tenant_id = mssparkutils.credentials.getSecret(keyvault, \"azure-tenant-id\")\r\n",
        "sp_client_id = mssparkutils.credentials.getSecret(keyvault, \"synw-notebook-sp-client-id\")\r\n",
        "sp_client_secret = mssparkutils.credentials.getSecret(keyvault, \"synw-notebook-sp-client-secret\")"
      ]
    },
    {
      "cell_type": "code",
      "execution_count": null,
      "outputs": [],
      "metadata": {
        "jupyter": {
          "source_hidden": false,
          "outputs_hidden": false
        },
        "nteract": {
          "transient": {
            "deleting": false
          }
        }
      },
      "source": [
        "appConfigurationCredential = ClientSecretCredential(azure_ad_tenant_id, sp_client_id, sp_client_secret)\r\n",
        "\r\n",
        "appConfigurationClient = AzureAppConfigurationClient(\r\n",
        "    base_url=f\"https://{appconfigurationstore}.azconfig.io\",\r\n",
        "    credential=appConfigurationCredential\r\n",
        ")"
      ]
    },
    {
      "cell_type": "code",
      "execution_count": null,
      "outputs": [],
      "metadata": {
        "jupyter": {
          "source_hidden": false,
          "outputs_hidden": false
        },
        "nteract": {
          "transient": {
            "deleting": false
          }
        }
      },
      "source": [
        "try:\r\n",
        "    feature = appConfigurationClient.get_configuration_setting(\r\n",
        "        key=f\".appconfig.featureflag/{featureflag}\"\r\n",
        "    )\r\n",
        "except:\r\n",
        "    mssparkutils.notebook.exit(fallbackvalue)"
      ]
    },
    {
      "cell_type": "code",
      "execution_count": null,
      "outputs": [],
      "metadata": {
        "jupyter": {
          "source_hidden": false,
          "outputs_hidden": false
        },
        "nteract": {
          "transient": {
            "deleting": false
          }
        }
      },
      "source": [
        "enabled = json.loads(feature.value)[\"enabled\"]"
      ]
    },
    {
      "cell_type": "code",
      "execution_count": null,
      "outputs": [],
      "metadata": {
        "jupyter": {
          "source_hidden": false,
          "outputs_hidden": false
        },
        "nteract": {
          "transient": {
            "deleting": false
          }
        }
      },
      "source": [
        "mssparkutils.notebook.exit(enabled)"
      ]
    }
  ]
}